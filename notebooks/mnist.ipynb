{
  "nbformat": 4,
  "nbformat_minor": 5,
  "metadata": {
    "kernelspec": {
      "display_name": "Python 3",
      "language": "python",
      "name": "python3"
    },
    "language_info": {
      "codemirror_mode": {
        "name": "ipython",
        "version": 3
      },
      "file_extension": ".py",
      "mimetype": "text/x-python",
      "name": "python",
      "nbconvert_exporter": "python",
      "pygments_lexer": "ipython3",
      "version": "3.7.10"
    },
    "colab": {
      "name": "mnist.ipynb",
      "provenance": [],
      "include_colab_link": true
    }
  },
  "cells": [
    {
      "cell_type": "markdown",
      "metadata": {
        "id": "view-in-github",
        "colab_type": "text"
      },
      "source": [
        "<a href=\"https://colab.research.google.com/github/eldiablo-data/tensorflow2learning/blob/master/notebooks/mnist.ipynb\" target=\"_parent\"><img src=\"https://colab.research.google.com/assets/colab-badge.svg\" alt=\"Open In Colab\"/></a>"
      ]
    },
    {
      "cell_type": "markdown",
      "metadata": {
        "pycharm": {
          "name": "#%% md\n"
        },
        "id": "29e3a34b-aa0a-4ef9-989e-4e6270768382"
      },
      "source": [
        "# Simple Tensorflow Demo for MNIST Dataset"
      ],
      "id": "29e3a34b-aa0a-4ef9-989e-4e6270768382"
    },
    {
      "cell_type": "code",
      "metadata": {
        "id": "83b7f6f5-2493-4621-b6d7-ada926a86fcc"
      },
      "source": [
        "import tensorflow as tf\n",
        "import numpy as np\n",
        "print(tf.__version__)"
      ],
      "id": "83b7f6f5-2493-4621-b6d7-ada926a86fcc",
      "execution_count": null,
      "outputs": []
    },
    {
      "cell_type": "markdown",
      "metadata": {
        "id": "2c4d5888-e6b4-4852-b338-475cd9d3cefe"
      },
      "source": [
        "## Loading MNIST data\n",
        "MNIST dataset is already available within tensorflow package. The numbers are represented as 28x28 pixels stored as array. The pixels have value ranging from 0 to 255 which represents the gray scale from white to black respectively. The load() function returns a tuple of training and test sets."
      ],
      "id": "2c4d5888-e6b4-4852-b338-475cd9d3cefe"
    },
    {
      "cell_type": "code",
      "metadata": {
        "id": "19d8b057-0bc2-4b03-9190-8d91d4d57cde"
      },
      "source": [
        "mnist = tf.keras.datasets.mnist\n",
        "(x_train,y_train),(x_test,y_test)= mnist.load_data() "
      ],
      "id": "19d8b057-0bc2-4b03-9190-8d91d4d57cde",
      "execution_count": null,
      "outputs": []
    },
    {
      "cell_type": "code",
      "metadata": {
        "pycharm": {
          "name": "#%%\n"
        },
        "id": "181d2b9a"
      },
      "source": [
        "x_train_scaled = x_train/255\n",
        "x_test_scaled = x_test/255"
      ],
      "id": "181d2b9a",
      "execution_count": null,
      "outputs": []
    },
    {
      "cell_type": "markdown",
      "metadata": {
        "id": "1a44d46f-e134-4600-b95d-76e55b796eaa"
      },
      "source": [
        "## Model initialization"
      ],
      "id": "1a44d46f-e134-4600-b95d-76e55b796eaa"
    },
    {
      "cell_type": "code",
      "metadata": {
        "id": "8dc78c65-e2f8-4c06-b9c6-85ad6bafb59c"
      },
      "source": [
        "model = tf.keras.models.Sequential()"
      ],
      "id": "8dc78c65-e2f8-4c06-b9c6-85ad6bafb59c",
      "execution_count": null,
      "outputs": []
    },
    {
      "cell_type": "markdown",
      "metadata": {
        "id": "0b427599-57f7-4ade-a699-7a8d3b8fc685"
      },
      "source": [
        "The above model is a Sequential model. Here, each layer gets input from the previous layer and passed output to next layer. As alternative to Sequential model, the Functional API of Keras allows users to define more complex graph or layers where a layer can get input from more than one layer and pass outputs to multiple layers."
      ],
      "id": "0b427599-57f7-4ade-a699-7a8d3b8fc685"
    },
    {
      "cell_type": "code",
      "metadata": {
        "id": "18edb1c0-9989-46b0-be25-3a1158b4c2e0"
      },
      "source": [
        "model.add(tf.keras.layers.Flatten(input_shape=(28,28)))"
      ],
      "id": "18edb1c0-9989-46b0-be25-3a1158b4c2e0",
      "execution_count": null,
      "outputs": []
    },
    {
      "cell_type": "markdown",
      "metadata": {
        "id": "63fb32a8-a1e0-4a82-bc73-9e663d58f9ea"
      },
      "source": [
        "Usually images are flattened into a vector to represent each input image as a row of the dataset."
      ],
      "id": "63fb32a8-a1e0-4a82-bc73-9e663d58f9ea"
    },
    {
      "cell_type": "code",
      "metadata": {
        "id": "a91bd4e5-0c31-4210-8052-870b8322378e"
      },
      "source": [
        "model.add(tf.keras.layers.Dense(units=128,activation='relu'))"
      ],
      "id": "a91bd4e5-0c31-4210-8052-870b8322378e",
      "execution_count": null,
      "outputs": []
    },
    {
      "cell_type": "markdown",
      "metadata": {
        "id": "a3002bd3-1fe4-4391-a3a9-396686d573c1"
      },
      "source": [
        "Dense layer is a regular densely-connected NN layer. The number of units is a hyper-parameter selected by experience. \n",
        "The output of a dense layer is calculated by `output = activation(dot(input, kernel) + bias)`. Here the ReLU or Rectified Linear Unit activation function is used. ReLU is half rectified function and it returns 0 for all negative inputs and for positive inputs it increases monotonically. "
      ],
      "id": "a3002bd3-1fe4-4391-a3a9-396686d573c1"
    },
    {
      "cell_type": "code",
      "metadata": {
        "id": "9c0b5812-2db4-47b1-8526-7b8c430c2bfd"
      },
      "source": [
        "model.add(tf.keras.layers.Dropout(0.2))"
      ],
      "id": "9c0b5812-2db4-47b1-8526-7b8c430c2bfd",
      "execution_count": null,
      "outputs": []
    },
    {
      "cell_type": "markdown",
      "metadata": {
        "id": "b7c39fd4-ce8d-47ba-9c33-595b332e2443"
      },
      "source": [
        "The dropout layer sets input units to 0 with the given rate. This is used to prevent overfitting. The shape can also be modified into a 1D tensor mask. And seed values can also be fixed. The dropout is active only when `training=True`. During inference, it is not used. During `model.fit()` training is True by default."
      ],
      "id": "b7c39fd4-ce8d-47ba-9c33-595b332e2443"
    },
    {
      "cell_type": "code",
      "metadata": {
        "id": "09ccb161-724d-4f94-88a1-950c4bd5867f"
      },
      "source": [
        "model.add(tf.keras.layers.Dense(10,'softmax'))"
      ],
      "id": "09ccb161-724d-4f94-88a1-950c4bd5867f",
      "execution_count": null,
      "outputs": []
    },
    {
      "cell_type": "markdown",
      "metadata": {
        "id": "41a9f708-ce0a-4163-ad99-7acb0157e999"
      },
      "source": [
        "Softmax converts a vector of values into a probablity distribution. Usually it is used in output layers as it can be used to interpret probablity distributions. Here 10 is used as we have 0-9 as the labels. \n",
        "\n",
        "## Compile the Model\n",
        "\n",
        "During this step, the configurations of the model are assigned. Optimizers are described in detail on later sections. In this example, `adam`optimizer is used."
      ],
      "id": "41a9f708-ce0a-4163-ad99-7acb0157e999"
    },
    {
      "cell_type": "code",
      "metadata": {
        "id": "d5468e10-0604-41b6-9df0-727bc84e4079"
      },
      "source": [
        "model.compile(optimizer='adam',\n",
        "              loss='sparse_categorical_crossentropy',\n",
        "              metrics=['accuracy'])"
      ],
      "id": "d5468e10-0604-41b6-9df0-727bc84e4079",
      "execution_count": null,
      "outputs": []
    },
    {
      "cell_type": "markdown",
      "metadata": {
        "pycharm": {
          "name": "#%% md\n"
        },
        "id": "442dca7a-5c41-465a-ae93-f62c9cb91a00"
      },
      "source": [
        "`sparse_categorial_crossentropy` function used here is a loss function that is useful when the output prediction is a sparse array. In this case, the one-hot encoding \n",
        "produces 1 for the right integer and 0 for all other indices. The `sparse_categorial_crossentropy` function only computes the loss for the k<sup>th</sup> index and ignores the rest.\n",
        "The cross entrophy loss for the rest of the positions would anyways be 0 and just summing up 0s is redundant. \n"
      ],
      "id": "442dca7a-5c41-465a-ae93-f62c9cb91a00"
    },
    {
      "cell_type": "code",
      "metadata": {
        "pycharm": {
          "name": "#%%\n"
        },
        "id": "786eb2d6"
      },
      "source": [
        "trainingProgress = model.fit(x=x_train_scaled,y=y_train, validation_data=(x_test_scaled,y_test),epochs=10)"
      ],
      "id": "786eb2d6",
      "execution_count": null,
      "outputs": []
    },
    {
      "cell_type": "markdown",
      "metadata": {
        "id": "Q_xy5T90nCCc"
      },
      "source": [
        "## Model Evaluation\n"
      ],
      "id": "Q_xy5T90nCCc"
    },
    {
      "cell_type": "code",
      "metadata": {
        "id": "m5-178wunGV_"
      },
      "source": [
        "import plotly.graph_objects as go\n",
        "import plotly.express as px\n",
        "\n"
      ],
      "id": "m5-178wunGV_",
      "execution_count": null,
      "outputs": []
    },
    {
      "cell_type": "markdown",
      "metadata": {
        "id": "2lYcZ0qWu6ok"
      },
      "source": [
        "### Loss"
      ],
      "id": "2lYcZ0qWu6ok"
    },
    {
      "cell_type": "code",
      "metadata": {
        "id": "DJyVJUbIosxx"
      },
      "source": [
        "lossPlot = go.Figure()\n",
        "lossPlot.add_trace(go.Scatter(y=trainingProgress.history['loss'],name='loss'))\n",
        "lossPlot.add_trace(go.Scatter(y=trainingProgress.history['val_loss'],name='val_loss'))"
      ],
      "id": "DJyVJUbIosxx",
      "execution_count": null,
      "outputs": []
    },
    {
      "cell_type": "code",
      "metadata": {
        "id": "FAME1ZLtu4xd"
      },
      "source": [
        "accuracyPlot = go.Figure()\n",
        "accuracyPlot.add_trace(go.Scatter(y=trainingProgress.history['accuracy'],name='Training accuracy'))\n",
        "accuracyPlot.add_trace(go.Scatter(y=trainingProgress.history['val_accuracy'],name='Testing accuracy'))"
      ],
      "id": "FAME1ZLtu4xd",
      "execution_count": null,
      "outputs": []
    },
    {
      "cell_type": "code",
      "metadata": {
        "id": "t7TE8NZ2w1Yn"
      },
      "source": [
        "pred_y= model.predict(x_test).argmax(axis=1)\n",
        "from pandas import crosstab as tab\n",
        "confusion = tab(pred_y,y_test,rownames=['pred_y'],colnames=['y_test'])\n",
        "confusion"
      ],
      "id": "t7TE8NZ2w1Yn",
      "execution_count": null,
      "outputs": []
    },
    {
      "cell_type": "code",
      "metadata": {
        "id": "UpotN6rwz2Na"
      },
      "source": [
        "px.imshow(confusion,zmax=20)"
      ],
      "id": "UpotN6rwz2Na",
      "execution_count": null,
      "outputs": []
    },
    {
      "cell_type": "code",
      "metadata": {
        "id": "PsNPrEv8F7Qw"
      },
      "source": [
        "misclassified = np.where(pred_y!=y_test)[0]\n",
        "misclassified.size"
      ],
      "id": "PsNPrEv8F7Qw",
      "execution_count": null,
      "outputs": []
    },
    {
      "cell_type": "code",
      "metadata": {
        "id": "muq_e75BG9vK"
      },
      "source": [
        "random_num = np.random.choice(misclassified)\n",
        "px.imshow(x_test[random_num],title=(\"True label:{} Predicted:{}\").format(y_test[random_num],pred_y[random_num]))"
      ],
      "id": "muq_e75BG9vK",
      "execution_count": null,
      "outputs": []
    }
  ]
}