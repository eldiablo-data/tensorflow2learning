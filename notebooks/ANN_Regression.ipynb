{
  "nbformat": 4,
  "nbformat_minor": 0,
  "metadata": {
    "colab": {
      "name": "ANN Regression",
      "provenance": [],
      "authorship_tag": "ABX9TyPfd5TPvBtXsVhOSFSgc99m",
      "include_colab_link": true
    },
    "kernelspec": {
      "display_name": "Python 3",
      "name": "python3"
    },
    "language_info": {
      "name": "python"
    }
  },
  "cells": [
    {
      "cell_type": "markdown",
      "metadata": {
        "id": "view-in-github",
        "colab_type": "text"
      },
      "source": [
        "<a href=\"https://colab.research.google.com/github/eldiablo-data/tensorflow2learning/blob/master/notebooks/ANN_Regression.ipynb\" target=\"_parent\"><img src=\"https://colab.research.google.com/assets/colab-badge.svg\" alt=\"Open In Colab\"/></a>"
      ]
    },
    {
      "cell_type": "code",
      "metadata": {
        "id": "RQOB18TjSPtI"
      },
      "source": [
        "import tensorflow as tf\n",
        "import numpy as np\n",
        "import plotly.graph_objects as go"
      ],
      "execution_count": null,
      "outputs": []
    },
    {
      "cell_type": "code",
      "metadata": {
        "id": "0oi85CAIS1KQ"
      },
      "source": [
        "N=1000\n",
        "x = np.random.random((N,2)) * 8 - 4\n",
        "y = np.cos(2*x[:,0]) + np.cos(3*x[:,1])"
      ],
      "execution_count": null,
      "outputs": []
    },
    {
      "cell_type": "markdown",
      "metadata": {
        "id": "OYe4CSMfUtkC"
      },
      "source": [
        "x<sub>0</sub> and x<sub>1</sub> are uniformly distributed random numbers between -6.0 and 6.0. And y implements the following function.\n",
        "\n",
        "$$ y = \\cos(2x_0) + cos(3x_1) $$"
      ]
    },
    {
      "cell_type": "code",
      "metadata": {
        "id": "B0msmTRkVzgx"
      },
      "source": [
        "fig = go.Figure(data= go.Mesh3d(z=y, x=x[:,0],y=x[:,1],opacity=0.5))\n",
        "fig.update_layout(autosize=True,\n",
        "                  width=500, height=500)\n",
        "fig.show()"
      ],
      "execution_count": null,
      "outputs": []
    },
    {
      "cell_type": "code",
      "metadata": {
        "id": "YCoGofKWYWkE"
      },
      "source": [
        "model = tf.keras.Sequential([\n",
        "                             tf.keras.layers.Dense(2*128, input_shape=(2,),activation='relu'),\n",
        "                             tf.keras.layers.Dense(128,activation='relu'),\n",
        "                             tf.keras.layers.Dense(1)\n",
        "])\n"
      ],
      "execution_count": null,
      "outputs": []
    },
    {
      "cell_type": "code",
      "metadata": {
        "id": "yUHAosbzZD1W"
      },
      "source": [
        "optimizer = tf.keras.optimizers.Adam(0.01)\n",
        "model.compile(optimizer=optimizer,loss='mse')\n",
        "r = model.fit(x,y,epochs=250)"
      ],
      "execution_count": null,
      "outputs": []
    }
  ]
}