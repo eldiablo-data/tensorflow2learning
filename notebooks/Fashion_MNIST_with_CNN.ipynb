{
  "nbformat": 4,
  "nbformat_minor": 0,
  "metadata": {
    "colab": {
      "name": "Fashion MNIST with CNN.ipynb",
      "provenance": [],
      "authorship_tag": "ABX9TyMVyHUQi6lI+8tJpByrpi85",
      "include_colab_link": true
    },
    "kernelspec": {
      "name": "python3",
      "display_name": "Python 3"
    },
    "language_info": {
      "name": "python"
    }
  },
  "cells": [
    {
      "cell_type": "markdown",
      "metadata": {
        "id": "view-in-github",
        "colab_type": "text"
      },
      "source": [
        "<a href=\"https://colab.research.google.com/github/eldiablo-data/tensorflow2learning/blob/master/notebooks/Fashion_MNIST_with_CNN.ipynb\" target=\"_parent\"><img src=\"https://colab.research.google.com/assets/colab-badge.svg\" alt=\"Open In Colab\"/></a>"
      ]
    },
    {
      "cell_type": "code",
      "metadata": {
        "id": "taSV3Qb_I_EA"
      },
      "source": [
        "import tensorflow as tf\n",
        "import numpy as np\n",
        "tf.__version__"
      ],
      "execution_count": null,
      "outputs": []
    },
    {
      "cell_type": "code",
      "metadata": {
        "id": "9mDOeQnAJjOP"
      },
      "source": [
        "from tensorflow.keras.layers import Input, Conv2D, Dense, Flatten, Dropout\n",
        "from tensorflow.keras.models import Model"
      ],
      "execution_count": null,
      "outputs": []
    },
    {
      "cell_type": "markdown",
      "metadata": {
        "id": "G6dW-AerJ3bJ"
      },
      "source": [
        "# Fashion MNIST\n",
        "This dataset is more complex than the regular MNIST dataset. It contains 10 classes of clothing and apparel object images in gray scale of size 28 x 28. We load this dataset from Keras similar to MNIST."
      ]
    },
    {
      "cell_type": "code",
      "metadata": {
        "id": "C_mthl2OJ09B"
      },
      "source": [
        "(x_train,y_train),(x_test,y_test) = tf.keras.datasets.fashion_mnist.load_data()\n",
        "x_train_scaled = x_train / 255\n",
        "x_test_scaled = x_test /255\n",
        "print(\"x_train.shape:\",x_train.shape)"
      ],
      "execution_count": null,
      "outputs": []
    },
    {
      "cell_type": "markdown",
      "metadata": {
        "id": "Aq2QvNrbLkPS"
      },
      "source": [
        "The input is a 28 x 28 grayscale image. For convolution, colored images are expected (height, width and colors as 3 dimensions) and  it requires an additional dimension in the input. Hence, the scalar color is represented as a 1D vector."
      ]
    },
    {
      "cell_type": "code",
      "metadata": {
        "id": "H6sVg1XvMGjK"
      },
      "source": [
        "x_train_scaled_cnn = np.expand_dims(x_train_scaled, -1)\n",
        "x_test_scaled_cnn = np.expand_dims(x_test_scaled,-1)\n",
        "print(\"x_train_scaled_cnn.shape:\",x_train_scaled_cnn.shape)"
      ],
      "execution_count": null,
      "outputs": []
    },
    {
      "cell_type": "code",
      "metadata": {
        "id": "xO1x842MNQon"
      },
      "source": [
        "k = len(set(y_train))\n",
        "print(\"Number of classes: \", k)"
      ],
      "execution_count": null,
      "outputs": []
    },
    {
      "cell_type": "markdown",
      "metadata": {
        "id": "9e6tTSwaOqbk"
      },
      "source": [
        "## Modelling"
      ]
    },
    {
      "cell_type": "code",
      "metadata": {
        "id": "V6tR18cPOp-t"
      },
      "source": [
        "i = Input(shape=x_train_scaled_cnn[0].shape)\n",
        "x = Conv2D(filters=32,kernel_size=(3,3),strides=2, activation='relu')(i)\n",
        "x = Conv2D(filters=64,kernel_size=(3,3),strides=2, activation='relu')(x)\n",
        "x = Conv2D(filters=128,kernel_size=(3,3),strides=2, activation='relu')(x)\n",
        "x = Flatten()(x)\n",
        "x = Dropout(0.2)(x)\n",
        "x = Dense(512, activation='relu')(x)\n",
        "x = Dropout(0.2)(x)\n",
        "x= Dense(k, activation='softmax')(x)\n",
        "model = Model(i,x)"
      ],
      "execution_count": null,
      "outputs": []
    },
    {
      "cell_type": "markdown",
      "metadata": {
        "id": "J0s9V-NcPvzG"
      },
      "source": [
        "We add a 2D convolution layer of size 32 with kernel size 3x3. This is a fine layer looking into patterns and strokes. In the next layer, we will increase the filters to look for larger patterns like, say buttons and stitches. In the final layer, we will increase the filter to even larger patterns such as collars and sleeves. \n",
        "Strides make the model skip a certain number of neighbouring pixels to save computation times. Usually immediate neighbours tend to have similary color values. \n",
        "\n",
        "We have 3 convolution layers. After that, we switch to regular Dense layer for classification. "
      ]
    },
    {
      "cell_type": "code",
      "metadata": {
        "id": "5Ksj-7zbt3b2"
      },
      "source": [
        "model.compile(optimizer='adam', loss = 'sparse_categorical_crossentropy', metrics='accuracy')\n",
        "r = model.fit(x_train_scaled_cnn,y_train,validation_data=(x_test_scaled_cnn,y_test),epochs = 15)"
      ],
      "execution_count": null,
      "outputs": []
    },
    {
      "cell_type": "code",
      "metadata": {
        "id": "R5LpHXo-wNyM"
      },
      "source": [
        "import plotly.graph_objects as go\n",
        "\n",
        "fig = go.Figure()\n",
        "fig.add_trace(go.Scatter(y= r.history['val_accuracy'],name=\"Validation Accuracy\"))\n",
        "fig.add_trace(go.Scatter(y=r.history['accuracy'],name=\"Training Accuracy\"))\n",
        "fig.update_layout(title=\"Training Progress - Accuracy\", xaxis_title=\"Epochs\",yaxis_title=\"Accuracy %\" )\n",
        "fig.show()"
      ],
      "execution_count": null,
      "outputs": []
    },
    {
      "cell_type": "code",
      "metadata": {
        "id": "SSuNL7F4xxg-"
      },
      "source": [
        "fig = go.Figure()\n",
        "fig.add_trace(go.Scatter(y=r.history['val_loss'],name=\"Validation Loss\"))\n",
        "fig.add_trace(go.Scatter(y=r.history['loss'],name=\"Training Loss\"))\n",
        "fig.update_layout(title = \"Training Progress - Loss\",xaxis_title=\"Epochs\",yaxis_title=\"Loss %\")\n",
        "fig.show()"
      ],
      "execution_count": null,
      "outputs": []
    },
    {
      "cell_type": "code",
      "metadata": {
        "id": "SlBMTSbM1aaa"
      },
      "source": [
        "y_pred = model.predict(x_test_scaled_cnn).argmax(axis=1)"
      ],
      "execution_count": null,
      "outputs": []
    },
    {
      "cell_type": "code",
      "metadata": {
        "id": "4jiCbXEKYdTa"
      },
      "source": [
        "# Label mapping\n",
        "labels = '''T-shirt/top\n",
        "Trouser\n",
        "Pullover\n",
        "Dress\n",
        "Coat\n",
        "Sandal\n",
        "Shirt\n",
        "Sneaker\n",
        "Bag\n",
        "Ankle boot'''.split(\"\\n\")"
      ],
      "execution_count": null,
      "outputs": []
    },
    {
      "cell_type": "code",
      "metadata": {
        "id": "2SeenA-Z1EqI"
      },
      "source": [
        "from pandas import crosstab as tab\n",
        "confusion=tab(index=y_test,columns=y_pred,colnames=['Predicted Lable'],rownames=['True Lable'])\n",
        "confusion"
      ],
      "execution_count": null,
      "outputs": []
    },
    {
      "cell_type": "code",
      "metadata": {
        "id": "dmInSbYaBUBu"
      },
      "source": [
        "import plotly.express as px\n",
        "px.imshow(confusion,zmax=120,title='Predicted vs True Labels')"
      ],
      "execution_count": null,
      "outputs": []
    },
    {
      "cell_type": "code",
      "metadata": {
        "id": "sQtbE_xeEwjv"
      },
      "source": [
        "misclassified_idx = np.where(y_pred != y_test)[0]"
      ],
      "execution_count": null,
      "outputs": []
    },
    {
      "cell_type": "code",
      "metadata": {
        "id": "jjmW4STFO-Ny"
      },
      "source": [
        "# Show some misclassified examples\n",
        "i = np.random.choice(misclassified_idx)\n",
        "px.imshow(x_test[i].reshape(28,28),color_continuous_scale=\"blues\",\n",
        "          title=\"True label: %s Predicted: %s\" % (labels[y_test[i]], labels[y_pred[i]]))"
      ],
      "execution_count": null,
      "outputs": []
    }
  ]
}